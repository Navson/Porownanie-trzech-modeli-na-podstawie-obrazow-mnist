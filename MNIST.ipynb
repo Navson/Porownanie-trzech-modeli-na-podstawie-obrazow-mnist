{
 "cells": [
  {
   "cell_type": "markdown",
   "metadata": {},
   "source": [
    "# Wczytanie danych\n"
   ]
  },
  {
   "cell_type": "code",
   "execution_count": 1,
   "metadata": {},
   "outputs": [],
   "source": [
    "import numpy as np\n",
    "import tensorflow as tf\n",
    "import matplotlib.pyplot as plt\n",
    "import tensorflow_datasets as tfds\n",
    "\n",
    "%load_ext tensorboard"
   ]
  },
  {
   "cell_type": "code",
   "execution_count": 2,
   "metadata": {},
   "outputs": [],
   "source": [
    "mnist_dataset, mnist_info = tfds.load(name= \"mnist\", with_info=True, as_supervised = True)"
   ]
  },
  {
   "cell_type": "code",
   "execution_count": 3,
   "metadata": {},
   "outputs": [],
   "source": [
    "mnist_train, mnist_test = mnist_dataset['train'], mnist_dataset['test']\n"
   ]
  },
  {
   "cell_type": "code",
   "execution_count": 4,
   "metadata": {},
   "outputs": [],
   "source": [
    "num_validation_samples = 0.1 * mnist_info.splits['train'].num_examples\n",
    "num_validation_samples = tf.cast(num_validation_samples, tf.int64)\n",
    "\n",
    "num_test_samples = mnist_info.splits['test'].num_examples\n",
    "num_test_samples = tf.cast(num_test_samples, tf.int64)"
   ]
  },
  {
   "cell_type": "code",
   "execution_count": 5,
   "metadata": {},
   "outputs": [],
   "source": [
    "def scale(image, label):\n",
    "    image = tf.cast(image, tf.float32)\n",
    "    image /= 255.\n",
    "    return image, label\n",
    "scale_train_and_validation_data = mnist_train.map(scale)\n",
    "scale_test_data =  mnist_test.map(scale)"
   ]
  },
  {
   "cell_type": "code",
   "execution_count": 6,
   "metadata": {},
   "outputs": [],
   "source": [
    "BATCH_SIZE = 128\n",
    "BUFFER_SIZE = 10000\n",
    "output_size = 10\n",
    "NUM_EPOCHS = 50"
   ]
  },
  {
   "cell_type": "code",
   "execution_count": 7,
   "metadata": {},
   "outputs": [],
   "source": [
    "shuffled_train_and_validation_data = scale_train_and_validation_data.shuffle(BUFFER_SIZE)\n",
    "\n",
    "validation_data = shuffled_train_and_validation_data.take(num_validation_samples)\n",
    "train_data = shuffled_train_and_validation_data.skip(num_validation_samples)\n",
    "\n",
    "train_data = train_data.batch(BATCH_SIZE)\n",
    "validation_data = validation_data.batch(num_validation_samples)\n",
    "test_data = scale_test_data.batch(num_test_samples)"
   ]
  },
  {
   "cell_type": "code",
   "execution_count": 8,
   "metadata": {},
   "outputs": [],
   "source": [
    "validation_inputs, validation_targets = next(iter(validation_data))\n"
   ]
  },
  {
   "cell_type": "markdown",
   "metadata": {},
   "source": [
    "# Model z pięcioma gęstymi warstwami "
   ]
  },
  {
   "cell_type": "code",
   "execution_count": 9,
   "metadata": {},
   "outputs": [],
   "source": [
    "model = tf.keras.Sequential([\n",
    "    tf.keras.layers.Flatten(input_shape=(28, 28, 1)),\n",
    "    tf.keras.layers.Dense(150, activation='sigmoid'),\n",
    "    tf.keras.layers.Dropout(0.2),\n",
    "    tf.keras.layers.Dense(75, activation='sigmoid'),\n",
    "    tf.keras.layers.Dropout(0.2),\n",
    "    tf.keras.layers.Dense(50, activation='sigmoid'),\n",
    "    tf.keras.layers.Dropout(0.2),\n",
    "    tf.keras.layers.Dense(25, activation='sigmoid'),\n",
    "    tf.keras.layers.Dropout(0.2),\n",
    "    tf.keras.layers.Dense(10, activation='sigmoid'), \n",
    "    tf.keras.layers.Dense(output_size, activation='softmax') \n",
    "])"
   ]
  },
  {
   "cell_type": "code",
   "execution_count": 10,
   "metadata": {},
   "outputs": [],
   "source": [
    "model.compile(optimizer=tf.keras.optimizers.Adam(0.01), loss= 'sparse_categorical_crossentropy', metrics=['accuracy'])\n",
    "tensorboard_callback = tf.keras.callbacks.TensorBoard(log_dir=\"logs/model_5_layers\")"
   ]
  },
  {
   "cell_type": "code",
   "execution_count": 11,
   "metadata": {
    "scrolled": true
   },
   "outputs": [
    {
     "name": "stdout",
     "output_type": "stream",
     "text": [
      "Epoch 1/50\n",
      "422/422 - 4s - loss: 1.3463 - accuracy: 0.4537 - val_loss: 0.6343 - val_accuracy: 0.7403\n",
      "Epoch 2/50\n",
      "422/422 - 2s - loss: 0.5497 - accuracy: 0.8007 - val_loss: 0.3180 - val_accuracy: 0.9303\n",
      "Epoch 3/50\n",
      "422/422 - 2s - loss: 0.3271 - accuracy: 0.9203 - val_loss: 0.2030 - val_accuracy: 0.9515\n",
      "Epoch 4/50\n",
      "422/422 - 2s - loss: 0.2643 - accuracy: 0.9351 - val_loss: 0.1871 - val_accuracy: 0.9545\n",
      "Epoch 5/50\n",
      "422/422 - 2s - loss: 0.2267 - accuracy: 0.9434 - val_loss: 0.1542 - val_accuracy: 0.9615\n",
      "Epoch 6/50\n",
      "422/422 - 2s - loss: 0.1987 - accuracy: 0.9494 - val_loss: 0.1306 - val_accuracy: 0.9695\n",
      "Epoch 7/50\n",
      "422/422 - 2s - loss: 0.1856 - accuracy: 0.9541 - val_loss: 0.1208 - val_accuracy: 0.9693\n",
      "Epoch 8/50\n",
      "422/422 - 2s - loss: 0.1751 - accuracy: 0.9562 - val_loss: 0.1168 - val_accuracy: 0.9690\n",
      "Epoch 9/50\n",
      "422/422 - 2s - loss: 0.1624 - accuracy: 0.9591 - val_loss: 0.1037 - val_accuracy: 0.9752\n",
      "Epoch 10/50\n",
      "422/422 - 2s - loss: 0.1586 - accuracy: 0.9599 - val_loss: 0.1056 - val_accuracy: 0.9728\n",
      "Epoch 11/50\n",
      "422/422 - 2s - loss: 0.1474 - accuracy: 0.9626 - val_loss: 0.0934 - val_accuracy: 0.9758\n",
      "Epoch 12/50\n",
      "422/422 - 2s - loss: 0.1419 - accuracy: 0.9631 - val_loss: 0.0918 - val_accuracy: 0.9762\n",
      "Epoch 13/50\n",
      "422/422 - 2s - loss: 0.1380 - accuracy: 0.9640 - val_loss: 0.0952 - val_accuracy: 0.9777\n",
      "Epoch 14/50\n",
      "422/422 - 2s - loss: 0.1376 - accuracy: 0.9640 - val_loss: 0.0865 - val_accuracy: 0.9797\n",
      "Epoch 15/50\n",
      "422/422 - 2s - loss: 0.1297 - accuracy: 0.9664 - val_loss: 0.0910 - val_accuracy: 0.9758\n",
      "Epoch 16/50\n",
      "422/422 - 2s - loss: 0.1236 - accuracy: 0.9679 - val_loss: 0.0839 - val_accuracy: 0.9805\n",
      "Epoch 17/50\n",
      "422/422 - 2s - loss: 0.1229 - accuracy: 0.9682 - val_loss: 0.0858 - val_accuracy: 0.9783\n",
      "Epoch 18/50\n",
      "422/422 - 2s - loss: 0.1176 - accuracy: 0.9696 - val_loss: 0.0802 - val_accuracy: 0.9803\n",
      "Epoch 19/50\n",
      "422/422 - 2s - loss: 0.1155 - accuracy: 0.9699 - val_loss: 0.0728 - val_accuracy: 0.9822\n",
      "Epoch 20/50\n",
      "422/422 - 2s - loss: 0.1116 - accuracy: 0.9716 - val_loss: 0.0718 - val_accuracy: 0.9842\n",
      "Epoch 21/50\n",
      "422/422 - 2s - loss: 0.1088 - accuracy: 0.9709 - val_loss: 0.0707 - val_accuracy: 0.9838\n",
      "Epoch 22/50\n",
      "422/422 - 2s - loss: 0.1023 - accuracy: 0.9735 - val_loss: 0.0693 - val_accuracy: 0.9838\n",
      "Epoch 23/50\n",
      "422/422 - 2s - loss: 0.1100 - accuracy: 0.9709 - val_loss: 0.0791 - val_accuracy: 0.9798\n",
      "Epoch 24/50\n",
      "422/422 - 2s - loss: 0.1005 - accuracy: 0.9732 - val_loss: 0.0636 - val_accuracy: 0.9842\n",
      "Epoch 25/50\n",
      "422/422 - 2s - loss: 0.1021 - accuracy: 0.9740 - val_loss: 0.0749 - val_accuracy: 0.9815\n",
      "Epoch 26/50\n",
      "422/422 - 2s - loss: 0.1045 - accuracy: 0.9724 - val_loss: 0.0688 - val_accuracy: 0.9813\n",
      "Epoch 27/50\n",
      "422/422 - 2s - loss: 0.0988 - accuracy: 0.9742 - val_loss: 0.0658 - val_accuracy: 0.9842\n",
      "Epoch 28/50\n",
      "422/422 - 2s - loss: 0.1004 - accuracy: 0.9737 - val_loss: 0.0649 - val_accuracy: 0.9838\n",
      "Epoch 29/50\n",
      "422/422 - 2s - loss: 0.0956 - accuracy: 0.9751 - val_loss: 0.0596 - val_accuracy: 0.9842\n",
      "Epoch 30/50\n",
      "422/422 - 2s - loss: 0.0927 - accuracy: 0.9762 - val_loss: 0.0743 - val_accuracy: 0.9808\n",
      "Epoch 31/50\n",
      "422/422 - 2s - loss: 0.0938 - accuracy: 0.9761 - val_loss: 0.0650 - val_accuracy: 0.9838\n",
      "Epoch 32/50\n",
      "422/422 - 2s - loss: 0.0921 - accuracy: 0.9756 - val_loss: 0.0638 - val_accuracy: 0.9840\n",
      "Epoch 33/50\n",
      "422/422 - 2s - loss: 0.0926 - accuracy: 0.9758 - val_loss: 0.0636 - val_accuracy: 0.9842\n",
      "Epoch 34/50\n",
      "422/422 - 2s - loss: 0.0910 - accuracy: 0.9766 - val_loss: 0.0614 - val_accuracy: 0.9860\n",
      "Epoch 35/50\n",
      "422/422 - 2s - loss: 0.0913 - accuracy: 0.9759 - val_loss: 0.0610 - val_accuracy: 0.9865\n",
      "Epoch 36/50\n",
      "422/422 - 2s - loss: 0.0861 - accuracy: 0.9773 - val_loss: 0.0649 - val_accuracy: 0.9843\n",
      "Epoch 37/50\n",
      "422/422 - 2s - loss: 0.0870 - accuracy: 0.9771 - val_loss: 0.0635 - val_accuracy: 0.9843\n",
      "Epoch 38/50\n",
      "422/422 - 2s - loss: 0.0895 - accuracy: 0.9766 - val_loss: 0.0593 - val_accuracy: 0.9857\n",
      "Epoch 39/50\n",
      "422/422 - 2s - loss: 0.0869 - accuracy: 0.9777 - val_loss: 0.0581 - val_accuracy: 0.9863\n",
      "Epoch 40/50\n",
      "422/422 - 2s - loss: 0.0834 - accuracy: 0.9777 - val_loss: 0.0506 - val_accuracy: 0.9880\n",
      "Epoch 41/50\n",
      "422/422 - 2s - loss: 0.0811 - accuracy: 0.9782 - val_loss: 0.0542 - val_accuracy: 0.9870\n",
      "Epoch 42/50\n",
      "422/422 - 2s - loss: 0.0800 - accuracy: 0.9792 - val_loss: 0.0494 - val_accuracy: 0.9883\n",
      "Epoch 43/50\n",
      "422/422 - 2s - loss: 0.0791 - accuracy: 0.9789 - val_loss: 0.0469 - val_accuracy: 0.9875\n",
      "Epoch 44/50\n",
      "422/422 - 2s - loss: 0.0752 - accuracy: 0.9802 - val_loss: 0.0495 - val_accuracy: 0.9860\n",
      "Epoch 45/50\n",
      "422/422 - 2s - loss: 0.0778 - accuracy: 0.9795 - val_loss: 0.0467 - val_accuracy: 0.9873\n",
      "Epoch 46/50\n",
      "422/422 - 2s - loss: 0.0751 - accuracy: 0.9805 - val_loss: 0.0423 - val_accuracy: 0.9898\n",
      "Epoch 47/50\n",
      "422/422 - 2s - loss: 0.0786 - accuracy: 0.9798 - val_loss: 0.0500 - val_accuracy: 0.9872\n",
      "Epoch 48/50\n",
      "422/422 - 2s - loss: 0.0820 - accuracy: 0.9785 - val_loss: 0.0512 - val_accuracy: 0.9878\n",
      "Epoch 49/50\n",
      "422/422 - 2s - loss: 0.0753 - accuracy: 0.9803 - val_loss: 0.0576 - val_accuracy: 0.9863\n",
      "Epoch 50/50\n",
      "422/422 - 2s - loss: 0.0763 - accuracy: 0.9798 - val_loss: 0.0565 - val_accuracy: 0.9873\n"
     ]
    }
   ],
   "source": [
    "hist_5_layers = model.fit(train_data, epochs= NUM_EPOCHS, validation_data = (validation_inputs, validation_targets), callbacks = [tensorboard_callback], verbose = 2)"
   ]
  },
  {
   "cell_type": "code",
   "execution_count": 12,
   "metadata": {},
   "outputs": [
    {
     "name": "stdout",
     "output_type": "stream",
     "text": [
      "1/1 [==============================] - 0s 356ms/step - loss: 0.1091 - accuracy: 0.9784\n"
     ]
    }
   ],
   "source": [
    "test_loss_5_layers, test_accuracy_5_layers = model.evaluate(test_data)"
   ]
  },
  {
   "cell_type": "code",
   "execution_count": 13,
   "metadata": {},
   "outputs": [
    {
     "name": "stdout",
     "output_type": "stream",
     "text": [
      "Test loss: 0.11. Test accuracy: 97.84%\n"
     ]
    }
   ],
   "source": [
    "print('Test loss: {0:.2f}. Test accuracy: {1:.2f}%'.format(test_loss_5_layers, test_accuracy_5_layers*100.))"
   ]
  },
  {
   "cell_type": "markdown",
   "metadata": {},
   "source": [
    "# Model z jedna gęstą warstwą"
   ]
  },
  {
   "cell_type": "code",
   "execution_count": 14,
   "metadata": {
    "scrolled": true
   },
   "outputs": [
    {
     "name": "stdout",
     "output_type": "stream",
     "text": [
      "Epoch 1/50\n",
      "422/422 - 2s - loss: 0.6145 - accuracy: 0.8514 - val_loss: 0.3392 - val_accuracy: 0.9050\n",
      "Epoch 2/50\n",
      "422/422 - 1s - loss: 0.3103 - accuracy: 0.9111 - val_loss: 0.2928 - val_accuracy: 0.9143\n",
      "Epoch 3/50\n",
      "422/422 - 1s - loss: 0.2773 - accuracy: 0.9193 - val_loss: 0.2864 - val_accuracy: 0.9148\n",
      "Epoch 4/50\n",
      "422/422 - 1s - loss: 0.2651 - accuracy: 0.9223 - val_loss: 0.2677 - val_accuracy: 0.9182\n",
      "Epoch 5/50\n",
      "422/422 - 1s - loss: 0.2493 - accuracy: 0.9261 - val_loss: 0.2710 - val_accuracy: 0.9192\n",
      "Epoch 6/50\n",
      "422/422 - 1s - loss: 0.2428 - accuracy: 0.9285 - val_loss: 0.2538 - val_accuracy: 0.9252\n",
      "Epoch 7/50\n",
      "422/422 - 1s - loss: 0.2359 - accuracy: 0.9306 - val_loss: 0.2667 - val_accuracy: 0.9190\n",
      "Epoch 8/50\n",
      "422/422 - 1s - loss: 0.2310 - accuracy: 0.9319 - val_loss: 0.2552 - val_accuracy: 0.9208\n",
      "Epoch 9/50\n",
      "422/422 - 1s - loss: 0.2223 - accuracy: 0.9341 - val_loss: 0.2488 - val_accuracy: 0.9232\n",
      "Epoch 10/50\n",
      "422/422 - 1s - loss: 0.2206 - accuracy: 0.9352 - val_loss: 0.2334 - val_accuracy: 0.9292\n",
      "Epoch 11/50\n",
      "422/422 - 1s - loss: 0.2141 - accuracy: 0.9363 - val_loss: 0.2441 - val_accuracy: 0.9253\n",
      "Epoch 12/50\n",
      "422/422 - 1s - loss: 0.2104 - accuracy: 0.9382 - val_loss: 0.2290 - val_accuracy: 0.9303\n",
      "Epoch 13/50\n",
      "422/422 - 1s - loss: 0.2084 - accuracy: 0.9373 - val_loss: 0.2447 - val_accuracy: 0.9257\n",
      "Epoch 14/50\n",
      "422/422 - 1s - loss: 0.2080 - accuracy: 0.9382 - val_loss: 0.2326 - val_accuracy: 0.9308\n",
      "Epoch 15/50\n",
      "422/422 - 2s - loss: 0.1999 - accuracy: 0.9407 - val_loss: 0.2267 - val_accuracy: 0.9323\n",
      "Epoch 16/50\n",
      "422/422 - 1s - loss: 0.2001 - accuracy: 0.9406 - val_loss: 0.2205 - val_accuracy: 0.9342\n",
      "Epoch 17/50\n",
      "422/422 - 1s - loss: 0.1969 - accuracy: 0.9413 - val_loss: 0.2266 - val_accuracy: 0.9327\n",
      "Epoch 18/50\n",
      "422/422 - 1s - loss: 0.1971 - accuracy: 0.9411 - val_loss: 0.2293 - val_accuracy: 0.9310\n",
      "Epoch 19/50\n",
      "422/422 - 1s - loss: 0.1930 - accuracy: 0.9431 - val_loss: 0.2214 - val_accuracy: 0.9333\n",
      "Epoch 20/50\n",
      "422/422 - 1s - loss: 0.1927 - accuracy: 0.9425 - val_loss: 0.2243 - val_accuracy: 0.9328\n",
      "Epoch 21/50\n",
      "422/422 - 1s - loss: 0.1927 - accuracy: 0.9421 - val_loss: 0.2243 - val_accuracy: 0.9340\n",
      "Epoch 22/50\n",
      "422/422 - 1s - loss: 0.1908 - accuracy: 0.9422 - val_loss: 0.2164 - val_accuracy: 0.9352\n",
      "Epoch 23/50\n",
      "422/422 - 1s - loss: 0.1895 - accuracy: 0.9439 - val_loss: 0.2242 - val_accuracy: 0.9338\n",
      "Epoch 24/50\n",
      "422/422 - 1s - loss: 0.1885 - accuracy: 0.9435 - val_loss: 0.2205 - val_accuracy: 0.9332\n",
      "Epoch 25/50\n",
      "422/422 - 1s - loss: 0.1882 - accuracy: 0.9444 - val_loss: 0.2160 - val_accuracy: 0.9402\n",
      "Epoch 26/50\n",
      "422/422 - 1s - loss: 0.1873 - accuracy: 0.9440 - val_loss: 0.2220 - val_accuracy: 0.9365\n",
      "Epoch 27/50\n",
      "422/422 - 1s - loss: 0.1857 - accuracy: 0.9445 - val_loss: 0.2190 - val_accuracy: 0.9358\n",
      "Epoch 28/50\n",
      "422/422 - 1s - loss: 0.1847 - accuracy: 0.9455 - val_loss: 0.2187 - val_accuracy: 0.9342\n",
      "Epoch 29/50\n",
      "422/422 - 1s - loss: 0.1830 - accuracy: 0.9453 - val_loss: 0.2221 - val_accuracy: 0.9355\n",
      "Epoch 30/50\n",
      "422/422 - 1s - loss: 0.1847 - accuracy: 0.9439 - val_loss: 0.2226 - val_accuracy: 0.9368\n",
      "Epoch 31/50\n",
      "422/422 - 1s - loss: 0.1805 - accuracy: 0.9461 - val_loss: 0.2269 - val_accuracy: 0.9348\n",
      "Epoch 32/50\n",
      "422/422 - 1s - loss: 0.1803 - accuracy: 0.9460 - val_loss: 0.2074 - val_accuracy: 0.9393\n",
      "Epoch 33/50\n",
      "422/422 - 1s - loss: 0.1818 - accuracy: 0.9445 - val_loss: 0.2193 - val_accuracy: 0.9392\n",
      "Epoch 34/50\n",
      "422/422 - 1s - loss: 0.1772 - accuracy: 0.9459 - val_loss: 0.2211 - val_accuracy: 0.9335\n",
      "Epoch 35/50\n",
      "422/422 - 1s - loss: 0.1819 - accuracy: 0.9459 - val_loss: 0.2175 - val_accuracy: 0.9377\n",
      "Epoch 36/50\n",
      "422/422 - 1s - loss: 0.1799 - accuracy: 0.9458 - val_loss: 0.2046 - val_accuracy: 0.9388\n",
      "Epoch 37/50\n",
      "422/422 - 1s - loss: 0.1776 - accuracy: 0.9468 - val_loss: 0.2096 - val_accuracy: 0.9402\n",
      "Epoch 38/50\n",
      "422/422 - 1s - loss: 0.1792 - accuracy: 0.9461 - val_loss: 0.2116 - val_accuracy: 0.9373\n",
      "Epoch 39/50\n",
      "422/422 - 1s - loss: 0.1755 - accuracy: 0.9466 - val_loss: 0.2174 - val_accuracy: 0.9365\n",
      "Epoch 40/50\n",
      "422/422 - 1s - loss: 0.1762 - accuracy: 0.9467 - val_loss: 0.2130 - val_accuracy: 0.9385\n",
      "Epoch 41/50\n",
      "422/422 - 1s - loss: 0.1748 - accuracy: 0.9469 - val_loss: 0.2127 - val_accuracy: 0.9370\n",
      "Epoch 42/50\n",
      "422/422 - 1s - loss: 0.1777 - accuracy: 0.9463 - val_loss: 0.2140 - val_accuracy: 0.9368\n",
      "Epoch 43/50\n",
      "422/422 - 1s - loss: 0.1749 - accuracy: 0.9471 - val_loss: 0.2115 - val_accuracy: 0.9378\n",
      "Epoch 44/50\n",
      "422/422 - 1s - loss: 0.1722 - accuracy: 0.9482 - val_loss: 0.2046 - val_accuracy: 0.9407\n",
      "Epoch 45/50\n",
      "422/422 - 2s - loss: 0.1748 - accuracy: 0.9473 - val_loss: 0.2052 - val_accuracy: 0.9375\n",
      "Epoch 46/50\n",
      "422/422 - 1s - loss: 0.1739 - accuracy: 0.9465 - val_loss: 0.2091 - val_accuracy: 0.9375\n",
      "Epoch 47/50\n",
      "422/422 - 1s - loss: 0.1713 - accuracy: 0.9485 - val_loss: 0.2152 - val_accuracy: 0.9365\n",
      "Epoch 48/50\n",
      "422/422 - 1s - loss: 0.1715 - accuracy: 0.9483 - val_loss: 0.2026 - val_accuracy: 0.9402\n",
      "Epoch 49/50\n",
      "422/422 - 1s - loss: 0.1692 - accuracy: 0.9489 - val_loss: 0.2155 - val_accuracy: 0.9328\n",
      "Epoch 50/50\n",
      "422/422 - 1s - loss: 0.1720 - accuracy: 0.9485 - val_loss: 0.2076 - val_accuracy: 0.9377\n"
     ]
    }
   ],
   "source": [
    "model = tf.keras.Sequential([\n",
    "    tf.keras.layers.Flatten(input_shape=(28, 28, 1)),\n",
    "    tf.keras.layers.Dense(10, activation='sigmoid'), \n",
    "    tf.keras.layers.Dense(output_size, activation='softmax') \n",
    "])\n",
    "tensorboard_callback = tf.keras.callbacks.TensorBoard(log_dir=\"logs/model_1_layer\")\n",
    "model.compile(optimizer=tf.keras.optimizers.Adam(0.01), loss= 'sparse_categorical_crossentropy', metrics=['accuracy'])\n",
    "hist_1_layer = model.fit(train_data, epochs= NUM_EPOCHS, validation_data = (validation_inputs, validation_targets), callbacks = [tensorboard_callback], verbose = 2)"
   ]
  },
  {
   "cell_type": "code",
   "execution_count": 15,
   "metadata": {},
   "outputs": [
    {
     "name": "stdout",
     "output_type": "stream",
     "text": [
      "1/1 [==============================] - 0s 293ms/step - loss: 0.2773 - accuracy: 0.9261\n"
     ]
    }
   ],
   "source": [
    "test_loss_1_layer, test_accuracy_1_layer = model.evaluate(test_data)"
   ]
  },
  {
   "cell_type": "code",
   "execution_count": 16,
   "metadata": {},
   "outputs": [
    {
     "name": "stdout",
     "output_type": "stream",
     "text": [
      "Test loss: 0.28. Test accuracy: 92.61%\n"
     ]
    }
   ],
   "source": [
    "print('Test loss: {0:.2f}. Test accuracy: {1:.2f}%'.format(test_loss_1_layer, test_accuracy_1_layer*100.))"
   ]
  },
  {
   "cell_type": "markdown",
   "metadata": {},
   "source": [
    "# Model z 5 warstwami w tym konwolucyjnymi"
   ]
  },
  {
   "cell_type": "code",
   "execution_count": 17,
   "metadata": {
    "scrolled": true
   },
   "outputs": [
    {
     "name": "stdout",
     "output_type": "stream",
     "text": [
      "Epoch 1/50\n",
      "422/422 - 11s - loss: 1.3141 - accuracy: 0.5297 - val_loss: 0.2934 - val_accuracy: 0.9120\n",
      "Epoch 2/50\n",
      "422/422 - 10s - loss: 0.2743 - accuracy: 0.9167 - val_loss: 0.2174 - val_accuracy: 0.9362\n",
      "Epoch 3/50\n",
      "422/422 - 10s - loss: 0.2005 - accuracy: 0.9396 - val_loss: 0.1611 - val_accuracy: 0.9512\n",
      "Epoch 4/50\n",
      "422/422 - 10s - loss: 0.1696 - accuracy: 0.9499 - val_loss: 0.1506 - val_accuracy: 0.9567\n",
      "Epoch 5/50\n",
      "422/422 - 10s - loss: 0.1453 - accuracy: 0.9563 - val_loss: 0.1291 - val_accuracy: 0.9605\n",
      "Epoch 6/50\n",
      "422/422 - 10s - loss: 0.1340 - accuracy: 0.9601 - val_loss: 0.1390 - val_accuracy: 0.9605\n",
      "Epoch 7/50\n",
      "422/422 - 10s - loss: 0.1311 - accuracy: 0.9604 - val_loss: 0.1353 - val_accuracy: 0.9613\n",
      "Epoch 8/50\n",
      "422/422 - 10s - loss: 0.1212 - accuracy: 0.9640 - val_loss: 0.1017 - val_accuracy: 0.9712\n",
      "Epoch 9/50\n",
      "422/422 - 10s - loss: 0.1155 - accuracy: 0.9652 - val_loss: 0.1072 - val_accuracy: 0.9682\n",
      "Epoch 10/50\n",
      "422/422 - 10s - loss: 0.1126 - accuracy: 0.9657 - val_loss: 0.1199 - val_accuracy: 0.9635\n",
      "Epoch 11/50\n",
      "422/422 - 10s - loss: 0.1035 - accuracy: 0.9694 - val_loss: 0.0972 - val_accuracy: 0.9707\n",
      "Epoch 12/50\n",
      "422/422 - 10s - loss: 0.1018 - accuracy: 0.9706 - val_loss: 0.1158 - val_accuracy: 0.9655\n",
      "Epoch 13/50\n",
      "422/422 - 10s - loss: 0.0998 - accuracy: 0.9695 - val_loss: 0.1135 - val_accuracy: 0.9660\n",
      "Epoch 14/50\n",
      "422/422 - 10s - loss: 0.0988 - accuracy: 0.9700 - val_loss: 0.0939 - val_accuracy: 0.9705\n",
      "Epoch 15/50\n",
      "422/422 - 10s - loss: 0.0981 - accuracy: 0.9706 - val_loss: 0.1570 - val_accuracy: 0.9552\n",
      "Epoch 16/50\n",
      "422/422 - 10s - loss: 0.0948 - accuracy: 0.9714 - val_loss: 0.1045 - val_accuracy: 0.9690\n",
      "Epoch 17/50\n",
      "422/422 - 10s - loss: 0.0956 - accuracy: 0.9713 - val_loss: 0.0798 - val_accuracy: 0.9772\n",
      "Epoch 18/50\n",
      "422/422 - 10s - loss: 0.0892 - accuracy: 0.9733 - val_loss: 0.0906 - val_accuracy: 0.9748\n",
      "Epoch 19/50\n",
      "422/422 - 10s - loss: 0.0865 - accuracy: 0.9733 - val_loss: 0.0889 - val_accuracy: 0.9737\n",
      "Epoch 20/50\n",
      "422/422 - 10s - loss: 0.0878 - accuracy: 0.9737 - val_loss: 0.0981 - val_accuracy: 0.9705\n",
      "Epoch 21/50\n",
      "422/422 - 10s - loss: 0.0860 - accuracy: 0.9737 - val_loss: 0.0838 - val_accuracy: 0.9760\n",
      "Epoch 22/50\n",
      "422/422 - 10s - loss: 0.0825 - accuracy: 0.9752 - val_loss: 0.0759 - val_accuracy: 0.9785\n",
      "Epoch 23/50\n",
      "422/422 - 10s - loss: 0.0826 - accuracy: 0.9743 - val_loss: 0.0827 - val_accuracy: 0.9748\n",
      "Epoch 24/50\n",
      "422/422 - 10s - loss: 0.0799 - accuracy: 0.9756 - val_loss: 0.0748 - val_accuracy: 0.9800\n",
      "Epoch 25/50\n",
      "422/422 - 10s - loss: 0.0763 - accuracy: 0.9761 - val_loss: 0.1193 - val_accuracy: 0.9650\n",
      "Epoch 26/50\n",
      "422/422 - 10s - loss: 0.0777 - accuracy: 0.9770 - val_loss: 0.0707 - val_accuracy: 0.9785\n",
      "Epoch 27/50\n",
      "422/422 - 10s - loss: 0.0771 - accuracy: 0.9766 - val_loss: 0.0887 - val_accuracy: 0.9745\n",
      "Epoch 28/50\n",
      "422/422 - 10s - loss: 0.0738 - accuracy: 0.9775 - val_loss: 0.0803 - val_accuracy: 0.9755\n",
      "Epoch 29/50\n",
      "422/422 - 10s - loss: 0.0737 - accuracy: 0.9772 - val_loss: 0.0754 - val_accuracy: 0.9763\n",
      "Epoch 30/50\n",
      "422/422 - 10s - loss: 0.0769 - accuracy: 0.9769 - val_loss: 0.0727 - val_accuracy: 0.9792\n",
      "Epoch 31/50\n",
      "422/422 - 10s - loss: 0.0711 - accuracy: 0.9776 - val_loss: 0.0834 - val_accuracy: 0.9738\n",
      "Epoch 32/50\n",
      "422/422 - 10s - loss: 0.0712 - accuracy: 0.9787 - val_loss: 0.0784 - val_accuracy: 0.9765\n",
      "Epoch 33/50\n",
      "422/422 - 10s - loss: 0.0705 - accuracy: 0.9787 - val_loss: 0.0748 - val_accuracy: 0.9775\n",
      "Epoch 34/50\n",
      "422/422 - 10s - loss: 0.0684 - accuracy: 0.9786 - val_loss: 0.0882 - val_accuracy: 0.9718\n",
      "Epoch 35/50\n",
      "422/422 - 10s - loss: 0.0695 - accuracy: 0.9784 - val_loss: 0.0836 - val_accuracy: 0.9772\n",
      "Epoch 36/50\n",
      "422/422 - 10s - loss: 0.0685 - accuracy: 0.9791 - val_loss: 0.0747 - val_accuracy: 0.9792\n",
      "Epoch 37/50\n",
      "422/422 - 10s - loss: 0.0694 - accuracy: 0.9787 - val_loss: 0.0788 - val_accuracy: 0.9763\n",
      "Epoch 38/50\n",
      "422/422 - 10s - loss: 0.0652 - accuracy: 0.9797 - val_loss: 0.0826 - val_accuracy: 0.9767\n",
      "Epoch 39/50\n",
      "422/422 - 10s - loss: 0.0673 - accuracy: 0.9792 - val_loss: 0.0884 - val_accuracy: 0.9752\n",
      "Epoch 40/50\n",
      "422/422 - 10s - loss: 0.0700 - accuracy: 0.9785 - val_loss: 0.0742 - val_accuracy: 0.9792\n",
      "Epoch 41/50\n",
      "422/422 - 10s - loss: 0.0645 - accuracy: 0.9804 - val_loss: 0.0734 - val_accuracy: 0.9777\n",
      "Epoch 42/50\n",
      "422/422 - 10s - loss: 0.0669 - accuracy: 0.9794 - val_loss: 0.0735 - val_accuracy: 0.9778\n",
      "Epoch 43/50\n",
      "422/422 - 10s - loss: 0.0627 - accuracy: 0.9805 - val_loss: 0.1067 - val_accuracy: 0.9700\n",
      "Epoch 44/50\n",
      "422/422 - 10s - loss: 0.0594 - accuracy: 0.9808 - val_loss: 0.0679 - val_accuracy: 0.9792\n",
      "Epoch 45/50\n",
      "422/422 - 10s - loss: 0.0631 - accuracy: 0.9803 - val_loss: 0.0753 - val_accuracy: 0.9770\n",
      "Epoch 46/50\n",
      "422/422 - 10s - loss: 0.0587 - accuracy: 0.9812 - val_loss: 0.0873 - val_accuracy: 0.9740\n",
      "Epoch 47/50\n",
      "422/422 - 10s - loss: 0.0585 - accuracy: 0.9827 - val_loss: 0.0648 - val_accuracy: 0.9810\n",
      "Epoch 48/50\n",
      "422/422 - 10s - loss: 0.0585 - accuracy: 0.9819 - val_loss: 0.0663 - val_accuracy: 0.9787\n",
      "Epoch 49/50\n",
      "422/422 - 10s - loss: 0.0558 - accuracy: 0.9827 - val_loss: 0.0682 - val_accuracy: 0.9800\n",
      "Epoch 50/50\n",
      "422/422 - 10s - loss: 0.0598 - accuracy: 0.9811 - val_loss: 0.0693 - val_accuracy: 0.9793\n"
     ]
    }
   ],
   "source": [
    "\n",
    "model = tf.keras.models.Sequential()\n",
    "model.add(tf.keras.layers.Conv2D(32, (3, 3), activation='sigmoid', kernel_initializer='he_uniform', input_shape=(28, 28, 1)))\n",
    "model.add(tf.keras.layers.MaxPooling2D((2, 2)))\n",
    "model.add(tf.keras.layers.Conv2D(32, (3, 3), activation='sigmoid', kernel_initializer='he_uniform', input_shape=(28, 28, 1)))\n",
    "model.add(tf.keras.layers.MaxPooling2D((2, 2)))\n",
    "model.add(tf.keras.layers.Conv2D(32, (3, 3), activation='sigmoid', kernel_initializer='he_uniform', input_shape=(28, 28, 1)))\n",
    "model.add(tf.keras.layers.MaxPooling2D((2, 2)))\n",
    "model.add(tf.keras.layers.Flatten())\n",
    "model.add(tf.keras.layers.Dense(100, activation='sigmoid', kernel_initializer='he_uniform'))\n",
    "model.add(tf.keras.layers.Dropout(0.2))\n",
    "model.add(tf.keras.layers.Dense(10, activation='softmax'))\n",
    "tensorboard_callback = tf.keras.callbacks.TensorBoard(log_dir=\"logs/model_5_layers_cnn\")\n",
    "model.compile(optimizer=tf.keras.optimizers.Adam(0.01), loss= 'sparse_categorical_crossentropy', metrics=['accuracy'])\n",
    "hist_5_layers_cnn = model.fit(train_data, epochs= NUM_EPOCHS, validation_data = (validation_inputs, validation_targets), callbacks = [tensorboard_callback], verbose = 2)"
   ]
  },
  {
   "cell_type": "code",
   "execution_count": 18,
   "metadata": {},
   "outputs": [
    {
     "name": "stdout",
     "output_type": "stream",
     "text": [
      "1/1 [==============================] - 1s 510ms/step - loss: 0.0851 - accuracy: 0.9768\n"
     ]
    }
   ],
   "source": [
    "test_loss_5_cnn, test_accuracy_5_cnn = model.evaluate(test_data)"
   ]
  },
  {
   "cell_type": "code",
   "execution_count": 19,
   "metadata": {
    "scrolled": true
   },
   "outputs": [
    {
     "data": {
      "text/plain": [
       "<matplotlib.legend.Legend at 0x21b89d63700>"
      ]
     },
     "execution_count": 19,
     "metadata": {},
     "output_type": "execute_result"
    },
    {
     "data": {
      "image/png": "[encoded data removed]",
      "text/plain": [
       "<Figure size 432x288 with 1 Axes>"
      ]
     },
     "metadata": {
      "needs_background": "light"
     },
     "output_type": "display_data"
    }
   ],
   "source": [
    "plt.plot(hist_1_layer.history['val_accuracy'])\n",
    "plt.plot(hist_5_layers.history['val_accuracy'])\n",
    "plt.plot(hist_5_layers_cnn.history['val_accuracy'])\n",
    "plt.title('model accuracy val')\n",
    "plt.ylabel('accuracy')\n",
    "plt.xlabel('epoch')\n",
    "plt.legend(['5 warst', '1 warstwa','5 warst cnn'], loc='lower right')"
   ]
  },
  {
   "cell_type": "code",
   "execution_count": 20,
   "metadata": {},
   "outputs": [
    {
     "data": {
      "text/plain": [
       "<matplotlib.legend.Legend at 0x21b89f91730>"
      ]
     },
     "execution_count": 20,
     "metadata": {},
     "output_type": "execute_result"
    },
    {
     "data": {
      "image/png": "[encoded data removed]",
      "text/plain": [
       "<Figure size 432x288 with 1 Axes>"
      ]
     },
     "metadata": {
      "needs_background": "light"
     },
     "output_type": "display_data"
    }
   ],
   "source": [
    "plt.plot(hist_1_layer.history['accuracy'])\n",
    "plt.plot(hist_5_layers.history['accuracy'])\n",
    "plt.plot(hist_5_layers_cnn.history['accuracy'])\n",
    "plt.title('model accuracy')\n",
    "plt.ylabel('accuracy')\n",
    "plt.xlabel('epoch')\n",
    "plt.legend(['5 warst', '1 warstwa','5 warst cnn'], loc='lower right')"
   ]
  },
  {
   "cell_type": "code",
   "execution_count": 25,
   "metadata": {
    "scrolled": true
   },
   "outputs": [
    {
     "data": {
      "text/plain": [
       "<matplotlib.legend.Legend at 0x21bf508ff70>"
      ]
     },
     "execution_count": 25,
     "metadata": {},
     "output_type": "execute_result"
    },
    {
     "data": {
      "image/png": "[encoded data removed]",
      "text/plain": [
       "<Figure size 432x288 with 1 Axes>"
      ]
     },
     "metadata": {
      "needs_background": "light"
     },
     "output_type": "display_data"
    }
   ],
   "source": [
    "plt.plot(hist_1_layer.history['loss'])\n",
    "plt.plot(hist_5_layers.history['loss'])\n",
    "plt.plot(hist_5_layers_cnn.history['loss'])\n",
    "plt.title('model loss')\n",
    "plt.ylabel('loss')\n",
    "plt.xlabel('epoch')\n",
    "plt.legend(['5 warst', '1 warstwa','5 warst cnn'], loc='upper right')"
   ]
  },
  {
   "cell_type": "code",
   "execution_count": 26,
   "metadata": {
    "scrolled": true
   },
   "outputs": [
    {
     "data": {
      "text/plain": [
       "<matplotlib.legend.Legend at 0x21b8b0f91f0>"
      ]
     },
     "execution_count": 26,
     "metadata": {},
     "output_type": "execute_result"
    },
    {
     "data": {
      "image/png": "[encoded data removed]",
      "text/plain": [
       "<Figure size 432x288 with 1 Axes>"
      ]
     },
     "metadata": {
      "needs_background": "light"
     },
     "output_type": "display_data"
    }
   ],
   "source": [
    "plt.plot(hist_1_layer.history['val_loss'])\n",
    "plt.plot(hist_5_layers.history['val_loss'])\n",
    "plt.plot(hist_5_layers_cnn.history['val_loss'])\n",
    "plt.title('model loss val')\n",
    "plt.ylabel('loss')\n",
    "plt.xlabel('epoch')\n",
    "plt.legend(['5 warst', '1 warstwa','5 warst cnn'], loc='upper right')"
   ]
  },
  {
   "cell_type": "code",
   "execution_count": 23,
   "metadata": {},
   "outputs": [
    {
     "data": {
      "text/plain": [
       "Reusing TensorBoard on port 6006 (pid 12188), started 0:14:03 ago. (Use '!kill 12188' to kill it.)"
      ]
     },
     "metadata": {},
     "output_type": "display_data"
    },
    {
     "data": {
      "text/html": [
       "\n",
       "      <iframe id=\"tensorboard-frame-22ccd09cc4bb5730\" width=\"100%\" height=\"800\" frameborder=\"0\">\n",
       "      </iframe>\n",
       "      <script>\n",
       "        (function() {\n",
       "          const frame = document.getElementById(\"tensorboard-frame-22ccd09cc4bb5730\");\n",
       "          const url = new URL(\"/\", window.location);\n",
       "          const port = 6006;\n",
       "          if (port) {\n",
       "            url.port = port;\n",
       "          }\n",
       "          frame.src = url;\n",
       "        })();\n",
       "      </script>\n",
       "    "
      ],
      "text/plain": [
       "<IPython.core.display.HTML object>"
      ]
     },
     "metadata": {},
     "output_type": "display_data"
    }
   ],
   "source": [
    "%tensorboard --logdir logs/\n"
   ]
  },
  {
   "cell_type": "code",
   "execution_count": null,
   "metadata": {},
   "outputs": [],
   "source": []
  }
 ],
 "metadata": {
  "kernelspec": {
   "display_name": "Python 3",
   "language": "python",
   "name": "python3"
  },
  "language_info": {
   "codemirror_mode": {
    "name": "ipython",
    "version": 3
   },
   "file_extension": ".py",
   "mimetype": "text/x-python",
   "name": "python",
   "nbconvert_exporter": "python",
   "pygments_lexer": "ipython3",
   "version": "3.8.5"
  }
 },
 "nbformat": 4,
 "nbformat_minor": 4
}
